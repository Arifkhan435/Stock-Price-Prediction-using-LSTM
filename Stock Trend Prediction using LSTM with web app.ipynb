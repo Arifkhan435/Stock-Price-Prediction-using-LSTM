{
 "cells": [
  {
   "cell_type": "markdown",
   "id": "ba3d5786",
   "metadata": {},
   "source": [
    "# LSTM Model for Stock Prediction"
   ]
  },
  {
   "cell_type": "code",
   "execution_count": 1,
   "id": "2855a62f",
   "metadata": {},
   "outputs": [],
   "source": [
    "##Importing necessary libraries\n",
    "import numpy as np\n",
    "import pandas as pd\n",
    "import pandas_datareader as data\n",
    "import matplotlib.pyplot as plt\n",
    "%matplotlib inline\n"
   ]
  },
  {
   "cell_type": "code",
   "execution_count": 2,
   "id": "f0889bd4",
   "metadata": {},
   "outputs": [
    {
     "data": {
      "text/html": [
       "<div>\n",
       "<style scoped>\n",
       "    .dataframe tbody tr th:only-of-type {\n",
       "        vertical-align: middle;\n",
       "    }\n",
       "\n",
       "    .dataframe tbody tr th {\n",
       "        vertical-align: top;\n",
       "    }\n",
       "\n",
       "    .dataframe thead th {\n",
       "        text-align: right;\n",
       "    }\n",
       "</style>\n",
       "<table border=\"1\" class=\"dataframe\">\n",
       "  <thead>\n",
       "    <tr style=\"text-align: right;\">\n",
       "      <th></th>\n",
       "      <th>High</th>\n",
       "      <th>Low</th>\n",
       "      <th>Open</th>\n",
       "      <th>Close</th>\n",
       "      <th>Volume</th>\n",
       "      <th>Adj Close</th>\n",
       "    </tr>\n",
       "    <tr>\n",
       "      <th>Date</th>\n",
       "      <th></th>\n",
       "      <th></th>\n",
       "      <th></th>\n",
       "      <th></th>\n",
       "      <th></th>\n",
       "      <th></th>\n",
       "    </tr>\n",
       "  </thead>\n",
       "  <tbody>\n",
       "    <tr>\n",
       "      <th>2009-12-31</th>\n",
       "      <td>7.619643</td>\n",
       "      <td>7.520000</td>\n",
       "      <td>7.611786</td>\n",
       "      <td>7.526071</td>\n",
       "      <td>352410800.0</td>\n",
       "      <td>6.434926</td>\n",
       "    </tr>\n",
       "    <tr>\n",
       "      <th>2010-01-04</th>\n",
       "      <td>7.660714</td>\n",
       "      <td>7.585000</td>\n",
       "      <td>7.622500</td>\n",
       "      <td>7.643214</td>\n",
       "      <td>493729600.0</td>\n",
       "      <td>6.535086</td>\n",
       "    </tr>\n",
       "    <tr>\n",
       "      <th>2010-01-05</th>\n",
       "      <td>7.699643</td>\n",
       "      <td>7.616071</td>\n",
       "      <td>7.664286</td>\n",
       "      <td>7.656429</td>\n",
       "      <td>601904800.0</td>\n",
       "      <td>6.546383</td>\n",
       "    </tr>\n",
       "    <tr>\n",
       "      <th>2010-01-06</th>\n",
       "      <td>7.686786</td>\n",
       "      <td>7.526786</td>\n",
       "      <td>7.656429</td>\n",
       "      <td>7.534643</td>\n",
       "      <td>552160000.0</td>\n",
       "      <td>6.442256</td>\n",
       "    </tr>\n",
       "    <tr>\n",
       "      <th>2010-01-07</th>\n",
       "      <td>7.571429</td>\n",
       "      <td>7.466071</td>\n",
       "      <td>7.562500</td>\n",
       "      <td>7.520714</td>\n",
       "      <td>477131200.0</td>\n",
       "      <td>6.430344</td>\n",
       "    </tr>\n",
       "  </tbody>\n",
       "</table>\n",
       "</div>"
      ],
      "text/plain": [
       "                High       Low      Open     Close       Volume  Adj Close\n",
       "Date                                                                      \n",
       "2009-12-31  7.619643  7.520000  7.611786  7.526071  352410800.0   6.434926\n",
       "2010-01-04  7.660714  7.585000  7.622500  7.643214  493729600.0   6.535086\n",
       "2010-01-05  7.699643  7.616071  7.664286  7.656429  601904800.0   6.546383\n",
       "2010-01-06  7.686786  7.526786  7.656429  7.534643  552160000.0   6.442256\n",
       "2010-01-07  7.571429  7.466071  7.562500  7.520714  477131200.0   6.430344"
      ]
     },
     "execution_count": 2,
     "metadata": {},
     "output_type": "execute_result"
    }
   ],
   "source": [
    "start = '2010-01-01'\n",
    "end = '2021-12-31'\n",
    "df = data.DataReader('AAPL', 'yahoo', start, end)\n",
    "df.head()"
   ]
  },
  {
   "cell_type": "code",
   "execution_count": 3,
   "id": "d46520cc",
   "metadata": {},
   "outputs": [
    {
     "data": {
      "text/html": [
       "<div>\n",
       "<style scoped>\n",
       "    .dataframe tbody tr th:only-of-type {\n",
       "        vertical-align: middle;\n",
       "    }\n",
       "\n",
       "    .dataframe tbody tr th {\n",
       "        vertical-align: top;\n",
       "    }\n",
       "\n",
       "    .dataframe thead th {\n",
       "        text-align: right;\n",
       "    }\n",
       "</style>\n",
       "<table border=\"1\" class=\"dataframe\">\n",
       "  <thead>\n",
       "    <tr style=\"text-align: right;\">\n",
       "      <th></th>\n",
       "      <th>Date</th>\n",
       "      <th>High</th>\n",
       "      <th>Low</th>\n",
       "      <th>Open</th>\n",
       "      <th>Close</th>\n",
       "      <th>Volume</th>\n",
       "      <th>Adj Close</th>\n",
       "    </tr>\n",
       "  </thead>\n",
       "  <tbody>\n",
       "    <tr>\n",
       "      <th>0</th>\n",
       "      <td>2009-12-31</td>\n",
       "      <td>7.619643</td>\n",
       "      <td>7.520000</td>\n",
       "      <td>7.611786</td>\n",
       "      <td>7.526071</td>\n",
       "      <td>352410800.0</td>\n",
       "      <td>6.434926</td>\n",
       "    </tr>\n",
       "    <tr>\n",
       "      <th>1</th>\n",
       "      <td>2010-01-04</td>\n",
       "      <td>7.660714</td>\n",
       "      <td>7.585000</td>\n",
       "      <td>7.622500</td>\n",
       "      <td>7.643214</td>\n",
       "      <td>493729600.0</td>\n",
       "      <td>6.535086</td>\n",
       "    </tr>\n",
       "    <tr>\n",
       "      <th>2</th>\n",
       "      <td>2010-01-05</td>\n",
       "      <td>7.699643</td>\n",
       "      <td>7.616071</td>\n",
       "      <td>7.664286</td>\n",
       "      <td>7.656429</td>\n",
       "      <td>601904800.0</td>\n",
       "      <td>6.546383</td>\n",
       "    </tr>\n",
       "    <tr>\n",
       "      <th>3</th>\n",
       "      <td>2010-01-06</td>\n",
       "      <td>7.686786</td>\n",
       "      <td>7.526786</td>\n",
       "      <td>7.656429</td>\n",
       "      <td>7.534643</td>\n",
       "      <td>552160000.0</td>\n",
       "      <td>6.442256</td>\n",
       "    </tr>\n",
       "    <tr>\n",
       "      <th>4</th>\n",
       "      <td>2010-01-07</td>\n",
       "      <td>7.571429</td>\n",
       "      <td>7.466071</td>\n",
       "      <td>7.562500</td>\n",
       "      <td>7.520714</td>\n",
       "      <td>477131200.0</td>\n",
       "      <td>6.430344</td>\n",
       "    </tr>\n",
       "  </tbody>\n",
       "</table>\n",
       "</div>"
      ],
      "text/plain": [
       "        Date      High       Low      Open     Close       Volume  Adj Close\n",
       "0 2009-12-31  7.619643  7.520000  7.611786  7.526071  352410800.0   6.434926\n",
       "1 2010-01-04  7.660714  7.585000  7.622500  7.643214  493729600.0   6.535086\n",
       "2 2010-01-05  7.699643  7.616071  7.664286  7.656429  601904800.0   6.546383\n",
       "3 2010-01-06  7.686786  7.526786  7.656429  7.534643  552160000.0   6.442256\n",
       "4 2010-01-07  7.571429  7.466071  7.562500  7.520714  477131200.0   6.430344"
      ]
     },
     "execution_count": 3,
     "metadata": {},
     "output_type": "execute_result"
    }
   ],
   "source": [
    "df = df.reset_index()\n",
    "df.head()"
   ]
  },
  {
   "cell_type": "code",
   "execution_count": 5,
   "id": "1fe15e8e",
   "metadata": {},
   "outputs": [
    {
     "data": {
      "text/html": [
       "<div>\n",
       "<style scoped>\n",
       "    .dataframe tbody tr th:only-of-type {\n",
       "        vertical-align: middle;\n",
       "    }\n",
       "\n",
       "    .dataframe tbody tr th {\n",
       "        vertical-align: top;\n",
       "    }\n",
       "\n",
       "    .dataframe thead th {\n",
       "        text-align: right;\n",
       "    }\n",
       "</style>\n",
       "<table border=\"1\" class=\"dataframe\">\n",
       "  <thead>\n",
       "    <tr style=\"text-align: right;\">\n",
       "      <th></th>\n",
       "      <th>High</th>\n",
       "      <th>Low</th>\n",
       "      <th>Open</th>\n",
       "      <th>Close</th>\n",
       "      <th>Volume</th>\n",
       "    </tr>\n",
       "  </thead>\n",
       "  <tbody>\n",
       "    <tr>\n",
       "      <th>0</th>\n",
       "      <td>7.619643</td>\n",
       "      <td>7.520000</td>\n",
       "      <td>7.611786</td>\n",
       "      <td>7.526071</td>\n",
       "      <td>352410800.0</td>\n",
       "    </tr>\n",
       "    <tr>\n",
       "      <th>1</th>\n",
       "      <td>7.660714</td>\n",
       "      <td>7.585000</td>\n",
       "      <td>7.622500</td>\n",
       "      <td>7.643214</td>\n",
       "      <td>493729600.0</td>\n",
       "    </tr>\n",
       "    <tr>\n",
       "      <th>2</th>\n",
       "      <td>7.699643</td>\n",
       "      <td>7.616071</td>\n",
       "      <td>7.664286</td>\n",
       "      <td>7.656429</td>\n",
       "      <td>601904800.0</td>\n",
       "    </tr>\n",
       "    <tr>\n",
       "      <th>3</th>\n",
       "      <td>7.686786</td>\n",
       "      <td>7.526786</td>\n",
       "      <td>7.656429</td>\n",
       "      <td>7.534643</td>\n",
       "      <td>552160000.0</td>\n",
       "    </tr>\n",
       "    <tr>\n",
       "      <th>4</th>\n",
       "      <td>7.571429</td>\n",
       "      <td>7.466071</td>\n",
       "      <td>7.562500</td>\n",
       "      <td>7.520714</td>\n",
       "      <td>477131200.0</td>\n",
       "    </tr>\n",
       "  </tbody>\n",
       "</table>\n",
       "</div>"
      ],
      "text/plain": [
       "       High       Low      Open     Close       Volume\n",
       "0  7.619643  7.520000  7.611786  7.526071  352410800.0\n",
       "1  7.660714  7.585000  7.622500  7.643214  493729600.0\n",
       "2  7.699643  7.616071  7.664286  7.656429  601904800.0\n",
       "3  7.686786  7.526786  7.656429  7.534643  552160000.0\n",
       "4  7.571429  7.466071  7.562500  7.520714  477131200.0"
      ]
     },
     "execution_count": 5,
     "metadata": {},
     "output_type": "execute_result"
    }
   ],
   "source": [
    "df = df.drop(['Date', 'Adj Close'], axis=1)\n",
    "df.head()"
   ]
  },
  {
   "cell_type": "code",
   "execution_count": 6,
   "id": "f07cc8cb",
   "metadata": {},
   "outputs": [
    {
     "data": {
      "text/plain": [
       "[<matplotlib.lines.Line2D at 0x280a08fe190>]"
      ]
     },
     "execution_count": 6,
     "metadata": {},
     "output_type": "execute_result"
    },
    {
     "data": {
      "image/png": "[encoded data removed]",
      "text/plain": [
       "<Figure size 432x288 with 1 Axes>"
      ]
     },
     "metadata": {
      "needs_background": "light"
     },
     "output_type": "display_data"
    }
   ],
   "source": [
    "plt.plot(df['Close'])"
   ]
  },
  {
   "cell_type": "code",
   "execution_count": 7,
   "id": "abbcc760",
   "metadata": {},
   "outputs": [
    {
     "data": {
      "text/plain": [
       "0            NaN\n",
       "1            NaN\n",
       "2            NaN\n",
       "3            NaN\n",
       "4            NaN\n",
       "          ...   \n",
       "3017    153.3444\n",
       "3018    153.6667\n",
       "3019    153.9991\n",
       "3020    154.3202\n",
       "3021    154.6399\n",
       "Name: Close, Length: 3022, dtype: float64"
      ]
     },
     "execution_count": 7,
     "metadata": {},
     "output_type": "execute_result"
    }
   ],
   "source": [
    "## 100 day moving average of \"Close\" column\n",
    "ma100 = df.Close.rolling(100).mean()\n",
    "ma100"
   ]
  },
  {
   "cell_type": "code",
   "execution_count": 8,
   "id": "42af2aee",
   "metadata": {},
   "outputs": [
    {
     "data": {
      "text/plain": [
       "[<matplotlib.lines.Line2D at 0x280a09e72e0>]"
      ]
     },
     "execution_count": 8,
     "metadata": {},
     "output_type": "execute_result"
    },
    {
     "data": {
      "image/png": "[encoded data removed]",
      "text/plain": [
       "<Figure size 864x432 with 1 Axes>"
      ]
     },
     "metadata": {
      "needs_background": "light"
     },
     "output_type": "display_data"
    }
   ],
   "source": [
    "##plot 100 day moving average\n",
    "plt.figure(figsize = (12,6))\n",
    "plt.plot(df.Close)\n",
    "plt.plot(ma100, 'r')"
   ]
  },
  {
   "cell_type": "code",
   "execution_count": 11,
   "id": "4d65d25f",
   "metadata": {},
   "outputs": [
    {
     "data": {
      "text/plain": [
       "0             NaN\n",
       "1             NaN\n",
       "2             NaN\n",
       "3             NaN\n",
       "4             NaN\n",
       "          ...    \n",
       "3017    142.85570\n",
       "3018    143.13220\n",
       "3019    143.40125\n",
       "3020    143.66845\n",
       "3021    143.95365\n",
       "Name: Close, Length: 3022, dtype: float64"
      ]
     },
     "execution_count": 11,
     "metadata": {},
     "output_type": "execute_result"
    }
   ],
   "source": [
    "## 200 day moving average of \"Close\" column\n",
    "ma200 = df.Close.rolling(200).mean()\n",
    "ma200"
   ]
  },
  {
   "cell_type": "code",
   "execution_count": 15,
   "id": "6c96eb75",
   "metadata": {},
   "outputs": [
    {
     "data": {
      "text/plain": [
       "<matplotlib.legend.Legend at 0x280a0bfc2b0>"
      ]
     },
     "execution_count": 15,
     "metadata": {},
     "output_type": "execute_result"
    },
    {
     "data": {
      "image/png": "[encoded data removed]",
      "text/plain": [
       "<Figure size 864x432 with 1 Axes>"
      ]
     },
     "metadata": {
      "needs_background": "light"
     },
     "output_type": "display_data"
    }
   ],
   "source": [
    "##plot 200 day moving average\n",
    "plt.figure(figsize = (12,6))\n",
    "plt.plot(df.Close, label='Actual close data ')\n",
    "plt.plot(ma100,'g', label='100 day moving average')\n",
    "plt.plot(ma200, 'r', label='200 day moving average')\n",
    "plt.xlabel(\"Days\")\n",
    "plt.ylabel('stock value')\n",
    "plt.legend()\n",
    "         "
   ]
  },
  {
   "cell_type": "code",
   "execution_count": 16,
   "id": "e6628582",
   "metadata": {},
   "outputs": [
    {
     "data": {
      "text/plain": [
       "(3022, 5)"
      ]
     },
     "execution_count": 16,
     "metadata": {},
     "output_type": "execute_result"
    }
   ],
   "source": [
    "df.shape"
   ]
  },
  {
   "cell_type": "code",
   "execution_count": 17,
   "id": "eb9ddaf3",
   "metadata": {},
   "outputs": [
    {
     "name": "stdout",
     "output_type": "stream",
     "text": [
      "(2115, 1)\n",
      "(907, 1)\n"
     ]
    }
   ],
   "source": [
    "##splitting data into training and testing\n",
    "data_train = pd.DataFrame(df['Close'][0:int(len(df)*0.70)])\n",
    "data_test = pd.DataFrame(df['Close'][int(len(df)*0.70) : int(len(df))])\n",
    "\n",
    "print(data_train.shape)\n",
    "print(data_test.shape)"
   ]
  },
  {
   "cell_type": "code",
   "execution_count": 18,
   "id": "e917c988",
   "metadata": {},
   "outputs": [
    {
     "data": {
      "text/html": [
       "<div>\n",
       "<style scoped>\n",
       "    .dataframe tbody tr th:only-of-type {\n",
       "        vertical-align: middle;\n",
       "    }\n",
       "\n",
       "    .dataframe tbody tr th {\n",
       "        vertical-align: top;\n",
       "    }\n",
       "\n",
       "    .dataframe thead th {\n",
       "        text-align: right;\n",
       "    }\n",
       "</style>\n",
       "<table border=\"1\" class=\"dataframe\">\n",
       "  <thead>\n",
       "    <tr style=\"text-align: right;\">\n",
       "      <th></th>\n",
       "      <th>Close</th>\n",
       "    </tr>\n",
       "  </thead>\n",
       "  <tbody>\n",
       "    <tr>\n",
       "      <th>0</th>\n",
       "      <td>7.526071</td>\n",
       "    </tr>\n",
       "    <tr>\n",
       "      <th>1</th>\n",
       "      <td>7.643214</td>\n",
       "    </tr>\n",
       "    <tr>\n",
       "      <th>2</th>\n",
       "      <td>7.656429</td>\n",
       "    </tr>\n",
       "    <tr>\n",
       "      <th>3</th>\n",
       "      <td>7.534643</td>\n",
       "    </tr>\n",
       "    <tr>\n",
       "      <th>4</th>\n",
       "      <td>7.520714</td>\n",
       "    </tr>\n",
       "  </tbody>\n",
       "</table>\n",
       "</div>"
      ],
      "text/plain": [
       "      Close\n",
       "0  7.526071\n",
       "1  7.643214\n",
       "2  7.656429\n",
       "3  7.534643\n",
       "4  7.520714"
      ]
     },
     "execution_count": 18,
     "metadata": {},
     "output_type": "execute_result"
    }
   ],
   "source": [
    "data_train.head()"
   ]
  },
  {
   "cell_type": "code",
   "execution_count": 19,
   "id": "369d79cc",
   "metadata": {},
   "outputs": [
    {
     "data": {
      "text/html": [
       "<div>\n",
       "<style scoped>\n",
       "    .dataframe tbody tr th:only-of-type {\n",
       "        vertical-align: middle;\n",
       "    }\n",
       "\n",
       "    .dataframe tbody tr th {\n",
       "        vertical-align: top;\n",
       "    }\n",
       "\n",
       "    .dataframe thead th {\n",
       "        text-align: right;\n",
       "    }\n",
       "</style>\n",
       "<table border=\"1\" class=\"dataframe\">\n",
       "  <thead>\n",
       "    <tr style=\"text-align: right;\">\n",
       "      <th></th>\n",
       "      <th>Close</th>\n",
       "    </tr>\n",
       "  </thead>\n",
       "  <tbody>\n",
       "    <tr>\n",
       "      <th>2115</th>\n",
       "      <td>46.974998</td>\n",
       "    </tr>\n",
       "    <tr>\n",
       "      <th>2116</th>\n",
       "      <td>46.875000</td>\n",
       "    </tr>\n",
       "    <tr>\n",
       "      <th>2117</th>\n",
       "      <td>46.717499</td>\n",
       "    </tr>\n",
       "    <tr>\n",
       "      <th>2118</th>\n",
       "      <td>47.560001</td>\n",
       "    </tr>\n",
       "    <tr>\n",
       "      <th>2119</th>\n",
       "      <td>47.957500</td>\n",
       "    </tr>\n",
       "  </tbody>\n",
       "</table>\n",
       "</div>"
      ],
      "text/plain": [
       "          Close\n",
       "2115  46.974998\n",
       "2116  46.875000\n",
       "2117  46.717499\n",
       "2118  47.560001\n",
       "2119  47.957500"
      ]
     },
     "execution_count": 19,
     "metadata": {},
     "output_type": "execute_result"
    }
   ],
   "source": [
    "data_test.head()"
   ]
  },
  {
   "cell_type": "code",
   "execution_count": 20,
   "id": "e9fab5ff",
   "metadata": {},
   "outputs": [],
   "source": [
    "from sklearn.preprocessing import MinMaxScaler\n",
    "sc = MinMaxScaler()"
   ]
  },
  {
   "cell_type": "code",
   "execution_count": 21,
   "id": "e4485d96",
   "metadata": {},
   "outputs": [
    {
     "data": {
      "text/plain": [
       "array([[0.01641142],\n",
       "       [0.0192931 ],\n",
       "       [0.01961817],\n",
       "       ...,\n",
       "       [0.98966821],\n",
       "       [0.98837669],\n",
       "       [0.9910212 ]])"
      ]
     },
     "execution_count": 21,
     "metadata": {},
     "output_type": "execute_result"
    }
   ],
   "source": [
    "data_train_array = sc.fit_transform(data_train)\n",
    "data_train_array"
   ]
  },
  {
   "cell_type": "code",
   "execution_count": 22,
   "id": "3493bbf8",
   "metadata": {},
   "outputs": [],
   "source": [
    "x_train = []\n",
    "y_train = []\n",
    "\n",
    "for i in range(100, data_train_array.shape[0]):\n",
    "    x_train.append(data_train_array[i-100:i])\n",
    "    y_train.append(data_train_array[i,0])\n",
    " \n",
    "## converting x_train and y_train into array\n",
    "x_train, y_train = np.array(x_train), np.array(y_train)"
   ]
  },
  {
   "cell_type": "code",
   "execution_count": 23,
   "id": "43f05a14",
   "metadata": {},
   "outputs": [],
   "source": [
    "##ML Model\n",
    "## import libraries\n",
    "\n",
    "from keras.layers import Dense, Dropout, LSTM\n",
    "from keras.models import Sequential"
   ]
  },
  {
   "cell_type": "code",
   "execution_count": 24,
   "id": "ef44dbf7",
   "metadata": {},
   "outputs": [
    {
     "data": {
      "text/plain": [
       "(2015, 100, 1)"
      ]
     },
     "execution_count": 24,
     "metadata": {},
     "output_type": "execute_result"
    }
   ],
   "source": [
    "x_train.shape"
   ]
  },
  {
   "cell_type": "code",
   "execution_count": 30,
   "id": "eecf42a0",
   "metadata": {},
   "outputs": [],
   "source": [
    "##Building RNN  LSTM Model\n",
    "model = Sequential()\n",
    "\n",
    "##first hidden layer\n",
    "model.add(LSTM(units = 50, activation='relu', return_sequences = True, input_shape = (x_train.shape[1],1)))\n",
    "model.add(Dropout(0.2))\n",
    "\n",
    "##second hidden layer\n",
    "model.add(LSTM(units = 60, activation='relu', return_sequences = True))\n",
    "model.add(Dropout(0.25))\n",
    "\n",
    "##third hidden layer\n",
    "model.add(LSTM(units = 100, activation='relu', return_sequences = True))\n",
    "model.add(Dropout(0.3))\n",
    "\n",
    "##fourth hidden layer\n",
    "model.add(LSTM(units = 150, activation='relu'))\n",
    "model.add(Dropout(0.30))\n",
    "          \n",
    "          \n",
    "          \n",
    "##add dense layer\n",
    "model.add(Dense(units=1))"
   ]
  },
  {
   "cell_type": "code",
   "execution_count": 31,
   "id": "2658b860",
   "metadata": {},
   "outputs": [
    {
     "name": "stdout",
     "output_type": "stream",
     "text": [
      "Model: \"sequential\"\n",
      "_________________________________________________________________\n",
      "Layer (type)                 Output Shape              Param #   \n",
      "=================================================================\n",
      "lstm (LSTM)                  (None, 100, 50)           10400     \n",
      "_________________________________________________________________\n",
      "dropout (Dropout)            (None, 100, 50)           0         \n",
      "_________________________________________________________________\n",
      "lstm_1 (LSTM)                (None, 100, 60)           26640     \n",
      "_________________________________________________________________\n",
      "dropout_1 (Dropout)          (None, 100, 60)           0         \n",
      "_________________________________________________________________\n",
      "lstm_2 (LSTM)                (None, 100, 100)          64400     \n",
      "_________________________________________________________________\n",
      "dropout_2 (Dropout)          (None, 100, 100)          0         \n",
      "_________________________________________________________________\n",
      "lstm_3 (LSTM)                (None, 150)               150600    \n",
      "_________________________________________________________________\n",
      "dropout_3 (Dropout)          (None, 150)               0         \n",
      "_________________________________________________________________\n",
      "dense (Dense)                (None, 1)                 151       \n",
      "=================================================================\n",
      "Total params: 252,191\n",
      "Trainable params: 252,191\n",
      "Non-trainable params: 0\n",
      "_________________________________________________________________\n"
     ]
    }
   ],
   "source": [
    "model.summary()"
   ]
  },
  {
   "cell_type": "code",
   "execution_count": 32,
   "id": "07d5f1f2",
   "metadata": {},
   "outputs": [
    {
     "name": "stdout",
     "output_type": "stream",
     "text": [
      "Epoch 1/40\n",
      "63/63 [==============================] - 47s 269ms/step - loss: 0.0892\n",
      "Epoch 2/40\n",
      "63/63 [==============================] - 16s 258ms/step - loss: 0.0053\n",
      "Epoch 3/40\n",
      "63/63 [==============================] - 16s 259ms/step - loss: 0.0038\n",
      "Epoch 4/40\n",
      "63/63 [==============================] - 16s 256ms/step - loss: 0.0035\n",
      "Epoch 5/40\n",
      "63/63 [==============================] - 16s 258ms/step - loss: 0.0040\n",
      "Epoch 6/40\n",
      "63/63 [==============================] - 16s 255ms/step - loss: 0.0038\n",
      "Epoch 7/40\n",
      "63/63 [==============================] - 16s 259ms/step - loss: 0.0036\n",
      "Epoch 8/40\n",
      "63/63 [==============================] - 16s 255ms/step - loss: 0.0033\n",
      "Epoch 9/40\n",
      "63/63 [==============================] - 16s 258ms/step - loss: 0.0031\n",
      "Epoch 10/40\n",
      "63/63 [==============================] - 16s 255ms/step - loss: 0.0032\n",
      "Epoch 11/40\n",
      "63/63 [==============================] - 16s 260ms/step - loss: 0.0027\n",
      "Epoch 12/40\n",
      "63/63 [==============================] - 16s 254ms/step - loss: 0.0027\n",
      "Epoch 13/40\n",
      "63/63 [==============================] - 16s 257ms/step - loss: 0.0029\n",
      "Epoch 14/40\n",
      "63/63 [==============================] - 17s 262ms/step - loss: 0.0026\n",
      "Epoch 15/40\n",
      "63/63 [==============================] - 17s 262ms/step - loss: 0.0023\n",
      "Epoch 16/40\n",
      "63/63 [==============================] - 16s 255ms/step - loss: 0.0021\n",
      "Epoch 17/40\n",
      "63/63 [==============================] - 16s 259ms/step - loss: 0.0021\n",
      "Epoch 18/40\n",
      "63/63 [==============================] - 16s 258ms/step - loss: 0.0023\n",
      "Epoch 19/40\n",
      "63/63 [==============================] - 16s 254ms/step - loss: 0.0021\n",
      "Epoch 20/40\n",
      "63/63 [==============================] - 16s 252ms/step - loss: 0.0024\n",
      "Epoch 21/40\n",
      "63/63 [==============================] - 16s 254ms/step - loss: 0.0021\n",
      "Epoch 22/40\n",
      "63/63 [==============================] - 16s 256ms/step - loss: 0.0020\n",
      "Epoch 23/40\n",
      "63/63 [==============================] - 16s 257ms/step - loss: 0.0021\n",
      "Epoch 24/40\n",
      "63/63 [==============================] - 16s 258ms/step - loss: 0.0020\n",
      "Epoch 25/40\n",
      "63/63 [==============================] - 16s 258ms/step - loss: 0.0020\n",
      "Epoch 26/40\n",
      "63/63 [==============================] - 16s 258ms/step - loss: 0.0021\n",
      "Epoch 27/40\n",
      "63/63 [==============================] - 16s 258ms/step - loss: 0.0021\n",
      "Epoch 28/40\n",
      "63/63 [==============================] - 16s 255ms/step - loss: 0.0020\n",
      "Epoch 29/40\n",
      "63/63 [==============================] - 16s 259ms/step - loss: 0.0021\n",
      "Epoch 30/40\n",
      "63/63 [==============================] - 16s 256ms/step - loss: 0.0018\n",
      "Epoch 31/40\n",
      "63/63 [==============================] - 16s 258ms/step - loss: 0.0016\n",
      "Epoch 32/40\n",
      "63/63 [==============================] - 16s 256ms/step - loss: 0.0018\n",
      "Epoch 33/40\n",
      "63/63 [==============================] - 16s 257ms/step - loss: 0.0018\n",
      "Epoch 34/40\n",
      "63/63 [==============================] - 16s 257ms/step - loss: 0.0016\n",
      "Epoch 35/40\n",
      "63/63 [==============================] - 16s 258ms/step - loss: 0.0015\n",
      "Epoch 36/40\n",
      "63/63 [==============================] - 16s 255ms/step - loss: 0.0016\n",
      "Epoch 37/40\n",
      "63/63 [==============================] - 16s 258ms/step - loss: 0.0019\n",
      "Epoch 38/40\n",
      "63/63 [==============================] - 17s 267ms/step - loss: 0.0015\n",
      "Epoch 39/40\n",
      "63/63 [==============================] - 16s 260ms/step - loss: 0.0014\n",
      "Epoch 40/40\n",
      "63/63 [==============================] - 16s 260ms/step - loss: 0.0017\n"
     ]
    },
    {
     "data": {
      "text/plain": [
       "<keras.callbacks.History at 0x280ab287910>"
      ]
     },
     "execution_count": 32,
     "metadata": {},
     "output_type": "execute_result"
    }
   ],
   "source": [
    "##compile the model\n",
    "\n",
    "model.compile(optimizer='adam', loss='mean_squared_error')\n",
    "model.fit(x_train, y_train, epochs=40)"
   ]
  },
  {
   "cell_type": "code",
   "execution_count": 34,
   "id": "10bfd34c",
   "metadata": {},
   "outputs": [],
   "source": [
    "model.save('stock_prediction.h5')"
   ]
  },
  {
   "cell_type": "code",
   "execution_count": 35,
   "id": "02e65560",
   "metadata": {},
   "outputs": [
    {
     "data": {
      "text/html": [
       "<div>\n",
       "<style scoped>\n",
       "    .dataframe tbody tr th:only-of-type {\n",
       "        vertical-align: middle;\n",
       "    }\n",
       "\n",
       "    .dataframe tbody tr th {\n",
       "        vertical-align: top;\n",
       "    }\n",
       "\n",
       "    .dataframe thead th {\n",
       "        text-align: right;\n",
       "    }\n",
       "</style>\n",
       "<table border=\"1\" class=\"dataframe\">\n",
       "  <thead>\n",
       "    <tr style=\"text-align: right;\">\n",
       "      <th></th>\n",
       "      <th>Close</th>\n",
       "    </tr>\n",
       "  </thead>\n",
       "  <tbody>\n",
       "    <tr>\n",
       "      <th>2115</th>\n",
       "      <td>46.974998</td>\n",
       "    </tr>\n",
       "    <tr>\n",
       "      <th>2116</th>\n",
       "      <td>46.875000</td>\n",
       "    </tr>\n",
       "    <tr>\n",
       "      <th>2117</th>\n",
       "      <td>46.717499</td>\n",
       "    </tr>\n",
       "    <tr>\n",
       "      <th>2118</th>\n",
       "      <td>47.560001</td>\n",
       "    </tr>\n",
       "    <tr>\n",
       "      <th>2119</th>\n",
       "      <td>47.957500</td>\n",
       "    </tr>\n",
       "  </tbody>\n",
       "</table>\n",
       "</div>"
      ],
      "text/plain": [
       "          Close\n",
       "2115  46.974998\n",
       "2116  46.875000\n",
       "2117  46.717499\n",
       "2118  47.560001\n",
       "2119  47.957500"
      ]
     },
     "execution_count": 35,
     "metadata": {},
     "output_type": "execute_result"
    }
   ],
   "source": [
    "data_test.head()"
   ]
  },
  {
   "cell_type": "code",
   "execution_count": 36,
   "id": "4d30a4d0",
   "metadata": {},
   "outputs": [],
   "source": [
    "past_100_days = data_train.tail(100)"
   ]
  },
  {
   "cell_type": "code",
   "execution_count": 37,
   "id": "665953a5",
   "metadata": {},
   "outputs": [],
   "source": [
    "##append last 100 data to test data\n",
    "final_df = past_100_days.append(data_test, ignore_index=True)"
   ]
  },
  {
   "cell_type": "code",
   "execution_count": 38,
   "id": "2cdfc489",
   "metadata": {},
   "outputs": [
    {
     "data": {
      "text/html": [
       "<div>\n",
       "<style scoped>\n",
       "    .dataframe tbody tr th:only-of-type {\n",
       "        vertical-align: middle;\n",
       "    }\n",
       "\n",
       "    .dataframe tbody tr th {\n",
       "        vertical-align: top;\n",
       "    }\n",
       "\n",
       "    .dataframe thead th {\n",
       "        text-align: right;\n",
       "    }\n",
       "</style>\n",
       "<table border=\"1\" class=\"dataframe\">\n",
       "  <thead>\n",
       "    <tr style=\"text-align: right;\">\n",
       "      <th></th>\n",
       "      <th>Close</th>\n",
       "    </tr>\n",
       "  </thead>\n",
       "  <tbody>\n",
       "    <tr>\n",
       "      <th>0</th>\n",
       "      <td>43.057499</td>\n",
       "    </tr>\n",
       "    <tr>\n",
       "      <th>1</th>\n",
       "      <td>43.257500</td>\n",
       "    </tr>\n",
       "    <tr>\n",
       "      <th>2</th>\n",
       "      <td>43.750000</td>\n",
       "    </tr>\n",
       "    <tr>\n",
       "      <th>3</th>\n",
       "      <td>43.587502</td>\n",
       "    </tr>\n",
       "    <tr>\n",
       "      <th>4</th>\n",
       "      <td>43.582500</td>\n",
       "    </tr>\n",
       "  </tbody>\n",
       "</table>\n",
       "</div>"
      ],
      "text/plain": [
       "       Close\n",
       "0  43.057499\n",
       "1  43.257500\n",
       "2  43.750000\n",
       "3  43.587502\n",
       "4  43.582500"
      ]
     },
     "execution_count": 38,
     "metadata": {},
     "output_type": "execute_result"
    }
   ],
   "source": [
    "final_df.head()"
   ]
  },
  {
   "cell_type": "code",
   "execution_count": 39,
   "id": "37533219",
   "metadata": {},
   "outputs": [],
   "source": [
    "input_data = sc.fit_transform(final_df)"
   ]
  },
  {
   "cell_type": "code",
   "execution_count": 41,
   "id": "b52d5173",
   "metadata": {},
   "outputs": [
    {
     "data": {
      "text/plain": [
       "array([[0.0518709 ],\n",
       "       [0.05325229],\n",
       "       [0.05665394],\n",
       "       ...,\n",
       "       [0.99343845],\n",
       "       [0.98528824],\n",
       "       [0.98093696]])"
      ]
     },
     "execution_count": 41,
     "metadata": {},
     "output_type": "execute_result"
    }
   ],
   "source": [
    "input_data"
   ]
  },
  {
   "cell_type": "code",
   "execution_count": 42,
   "id": "eb6ae773",
   "metadata": {},
   "outputs": [
    {
     "data": {
      "text/plain": [
       "(1007, 1)"
      ]
     },
     "execution_count": 42,
     "metadata": {},
     "output_type": "execute_result"
    }
   ],
   "source": [
    "input_data.shape"
   ]
  },
  {
   "cell_type": "code",
   "execution_count": 43,
   "id": "4f14b8bd",
   "metadata": {},
   "outputs": [],
   "source": [
    "x_test = []\n",
    "y_test = []\n",
    "\n",
    "for i in range(100, input_data.shape[0]):\n",
    "    x_test.append(input_data[i-100:i])\n",
    "    y_test.append(input_data[i,0])\n",
    " \n",
    "## converting x_test and y_test into array\n",
    "x_test, y_test = np.array(x_test), np.array(y_test)"
   ]
  },
  {
   "cell_type": "code",
   "execution_count": 44,
   "id": "6c9297fc",
   "metadata": {},
   "outputs": [
    {
     "name": "stdout",
     "output_type": "stream",
     "text": [
      "(907, 100, 1)\n",
      "(907,)\n"
     ]
    }
   ],
   "source": [
    "print(x_test.shape)\n",
    "print(y_test.shape)"
   ]
  },
  {
   "cell_type": "code",
   "execution_count": 45,
   "id": "3ee97732",
   "metadata": {},
   "outputs": [],
   "source": [
    "##Making Predictions\n",
    "\n",
    "y_pred = model.predict(x_test) \n"
   ]
  },
  {
   "cell_type": "code",
   "execution_count": 46,
   "id": "e248ad05",
   "metadata": {},
   "outputs": [
    {
     "data": {
      "text/plain": [
       "(907, 1)"
      ]
     },
     "execution_count": 46,
     "metadata": {},
     "output_type": "execute_result"
    }
   ],
   "source": [
    "y_pred.shape"
   ]
  },
  {
   "cell_type": "code",
   "execution_count": 47,
   "id": "a352d3d3",
   "metadata": {},
   "outputs": [
    {
     "data": {
      "text/plain": [
       "array([0.07892872, 0.07823804, 0.07715019, 0.08296929, 0.08571478,\n",
       "       0.08827033, 0.08942723, 0.08852935, 0.08549029, 0.08467873,\n",
       "       0.0864918 , 0.08376357, 0.08393625, 0.08055185, 0.08037919,\n",
       "       0.07511267, 0.07651131, 0.07471553, 0.07378308, 0.06903458,\n",
       "       0.07293697, 0.07247078, 0.07478459, 0.07411116, 0.07768548,\n",
       "       0.07205635, 0.0746119 , 0.07904961, 0.08355637, 0.08315923,\n",
       "       0.07889421, 0.08433339, 0.08485141, 0.08412619, 0.08505861,\n",
       "       0.08324554, 0.08580112, 0.08504135, 0.0853349 , 0.08773505,\n",
       "       0.0908777 , 0.0898244 , 0.08424705, 0.08239946, 0.0830556 ,\n",
       "       0.10241223, 0.11258266, 0.11361871, 0.11548358, 0.11209918,\n",
       "       0.11234092, 0.1151555 , 0.1128244 , 0.11513821, 0.11665774,\n",
       "       0.11750385, 0.12282217, 0.13017802, 0.12651737, 0.12579212,\n",
       "       0.1258094 , 0.12656917, 0.12772607, 0.13079965, 0.13383868,\n",
       "       0.13950234, 0.14304214, 0.14753165, 0.14879215, 0.14621932,\n",
       "       0.13970957, 0.13660145, 0.13147307, 0.14100462, 0.13620431,\n",
       "       0.14542503, 0.14098733, 0.13069605, 0.13131767, 0.13154213,\n",
       "       0.1344085 , 0.13031616, 0.13572081, 0.13813824, 0.13508192,\n",
       "       0.142904  , 0.14426813, 0.14689274, 0.15038074, 0.15519832,\n",
       "       0.14815327, 0.14176435, 0.14086647, 0.14621932, 0.12807141,\n",
       "       0.12477336, 0.1380001 , 0.12979814, 0.13806916, 0.13641151,\n",
       "       0.12748433, 0.13316526, 0.13547906, 0.13907066, 0.12587846,\n",
       "       0.13401136, 0.12796781, 0.1209573 , 0.12278763, 0.13238823,\n",
       "       0.13819004, 0.11273806, 0.10256763, 0.10633191, 0.11700308,\n",
       "       0.11448207, 0.10754062, 0.08975531, 0.08640546, 0.07702934,\n",
       "       0.08498955, 0.08865021, 0.07540621, 0.06007286, 0.05972752,\n",
       "       0.0519745 , 0.05599778, 0.05534164, 0.06691071, 0.06451056,\n",
       "       0.06283563, 0.07361042, 0.05957212, 0.05617046, 0.04541295,\n",
       "       0.04732962, 0.04565469, 0.04646626, 0.04966069, 0.04021548,\n",
       "       0.03755633, 0.04123427, 0.03228981, 0.0252793 , 0.01474625,\n",
       "       0.00801202, 0.02586638, 0.02410511, 0.02424325, 0.02685063,\n",
       "       0.02716142, 0.        , 0.01048123, 0.0099114 , 0.01478079,\n",
       "       0.01920121, 0.02004731, 0.01743994, 0.01348574, 0.01878681,\n",
       "       0.02201578, 0.02360437, 0.02526204, 0.01918395, 0.02025451,\n",
       "       0.0181479 , 0.02688514, 0.02436413, 0.02156682, 0.03981834,\n",
       "       0.04187315, 0.0420113 , 0.05017871, 0.05523801, 0.05534164,\n",
       "       0.04964343, 0.04872827, 0.04703605, 0.04955709, 0.0483311 ,\n",
       "       0.04940169, 0.04874552, 0.04962615, 0.05152556, 0.04985063,\n",
       "       0.05314869, 0.05532435, 0.05549704, 0.05642946, 0.05345948,\n",
       "       0.05660214, 0.05812167, 0.05756911, 0.05582512, 0.05233712,\n",
       "       0.05304509, 0.06338817, 0.06685891, 0.0682403 , 0.07172827,\n",
       "       0.07585515, 0.07913595, 0.07656311, 0.07937769, 0.0913439 ,\n",
       "       0.08436793, 0.08037919, 0.07701205, 0.07991297, 0.08034465,\n",
       "       0.08246852, 0.08469601, 0.08949632, 0.09179287, 0.09237995,\n",
       "       0.09464196, 0.09999483, 0.09895878, 0.1008927 , 0.09800907,\n",
       "       0.09787093, 0.09849255, 0.0985271 , 0.10522681, 0.10648731,\n",
       "       0.10764422, 0.11273806, 0.11218552, 0.10893926, 0.10724708,\n",
       "       0.10778236, 0.10097905, 0.11798733, 0.11562169, 0.1201112 ,\n",
       "       0.11446479, 0.10476059, 0.10482964, 0.10106539, 0.09495276,\n",
       "       0.07516447, 0.08024105, 0.08414345, 0.082693  , 0.08082813,\n",
       "       0.07062317, 0.076684  , 0.07008788, 0.0647005 , 0.06350905,\n",
       "       0.06223127, 0.06076356, 0.06235215, 0.05677483, 0.05371851,\n",
       "       0.06466596, 0.06967346, 0.0743011 , 0.08281386, 0.08700982,\n",
       "       0.09086042, 0.08978986, 0.08972077, 0.08728611, 0.08927183,\n",
       "       0.09714571, 0.0961442 , 0.09888972, 0.09771553, 0.09737019,\n",
       "       0.09217275, 0.0994768 , 0.0993732 , 0.09623054, 0.10249858,\n",
       "       0.1045361 , 0.10743702, 0.10712619, 0.09985668, 0.10196329,\n",
       "       0.10539947, 0.10284392, 0.10552035, 0.10881841, 0.10759242,\n",
       "       0.10560669, 0.10959543, 0.10429436, 0.11228912, 0.11508641,\n",
       "       0.11479287, 0.11194378, 0.11318703, 0.11653686, 0.11498281,\n",
       "       0.12233866, 0.11437845, 0.1067636 , 0.08832213, 0.09464196,\n",
       "       0.09816447, 0.10574481, 0.10153161, 0.10065096, 0.11531089,\n",
       "       0.10457064, 0.10282666, 0.11104587, 0.11769379, 0.11771105,\n",
       "       0.12164798, 0.12133718, 0.1043807 , 0.11102862, 0.10700534,\n",
       "       0.10937095, 0.11537995, 0.11491375, 0.10966449, 0.11569078,\n",
       "       0.12275309, 0.12271855, 0.12428987, 0.12865849, 0.14055565,\n",
       "       0.13969229, 0.13219829, 0.13418402, 0.13556541, 0.13913975,\n",
       "       0.13601437, 0.13043702, 0.13214649, 0.13035068, 0.13613523,\n",
       "       0.13416676, 0.13231918, 0.14121181, 0.14228238, 0.13256092,\n",
       "       0.13577263, 0.14646106, 0.1465474 , 0.14195429, 0.1464956 ,\n",
       "       0.15177938, 0.16234697, 0.16175987, 0.16081019, 0.15916978,\n",
       "       0.1607411 , 0.16269232, 0.16977188, 0.1688222 , 0.17438224,\n",
       "       0.17507295, 0.18025314, 0.18451816, 0.17457219, 0.17452039,\n",
       "       0.18401739, 0.19620811, 0.199109  , 0.19847012, 0.19866004,\n",
       "       0.20244157, 0.20366759, 0.20722465, 0.20681019, 0.2111443 ,\n",
       "       0.20798441, 0.21337179, 0.2156856 , 0.21428696, 0.20893409,\n",
       "       0.20689656, 0.2064994 , 0.21442507, 0.2108335 , 0.21696336,\n",
       "       0.2159446 , 0.21060902, 0.20247614, 0.20643031, 0.21306094,\n",
       "       0.22191906, 0.2153748 , 0.21806849, 0.22202266, 0.22321411,\n",
       "       0.22958574, 0.23771862, 0.23866835, 0.23751142, 0.2379949 ,\n",
       "       0.23699342, 0.24486729, 0.24533349, 0.25507226, 0.2548823 ,\n",
       "       0.25785227, 0.26153021, 0.27309931, 0.26805724, 0.27214958,\n",
       "       0.26971494, 0.27800321, 0.28912334, 0.29033202, 0.30178024,\n",
       "       0.29438984, 0.29207603, 0.29881026, 0.30483658, 0.30110684,\n",
       "       0.30305805, 0.30569994, 0.30411133, 0.28794918, 0.30304077,\n",
       "       0.3145235 , 0.31371193, 0.28891614, 0.28744841, 0.30504378,\n",
       "       0.30953328, 0.31602574, 0.3070813 , 0.30970591, 0.30635605,\n",
       "       0.31946197, 0.31543866, 0.31557683, 0.30530277, 0.31328025,\n",
       "       0.3075475 , 0.29502872, 0.26935229, 0.25191232, 0.25980348,\n",
       "       0.22677117, 0.22649488, 0.27044013, 0.2540535 , 0.27722616,\n",
       "       0.26026973, 0.25355273, 0.21407976, 0.2471811 , 0.23006922,\n",
       "       0.18310223, 0.23445513, 0.17270734, 0.19109699, 0.18040853,\n",
       "       0.17714502, 0.15031168, 0.1419025 , 0.18077116, 0.17842281,\n",
       "       0.20073213, 0.18225615, 0.1944641 , 0.19356619, 0.17046259,\n",
       "       0.17740402, 0.17132596, 0.20769084, 0.20244157, 0.21390707,\n",
       "       0.21722236, 0.22630497, 0.25013379, 0.24560978, 0.2495122 ,\n",
       "       0.2427952 , 0.23265932, 0.21787853, 0.23122615, 0.22937854,\n",
       "       0.24308877, 0.24343413, 0.23550841, 0.25130801, 0.26178921,\n",
       "       0.25362182, 0.26068413, 0.26828172, 0.27358279, 0.27895289,\n",
       "       0.28998671, 0.29841315, 0.29219692, 0.2857044 , 0.28896794,\n",
       "       0.285808  , 0.29832678, 0.29518417, 0.30569994, 0.30159032,\n",
       "       0.30511286, 0.30138312, 0.30376596, 0.30400773, 0.30347245,\n",
       "       0.31022396, 0.31279677, 0.31587034, 0.31103552, 0.32688688,\n",
       "       0.33027125, 0.34845369, 0.36373524, 0.33448447, 0.33949197,\n",
       "       0.34672696, 0.36242291, 0.36157683, 0.3618186 , 0.35834786,\n",
       "       0.37414741, 0.38737416, 0.37620222, 0.38445598, 0.36509937,\n",
       "       0.3791722 , 0.3843869 , 0.38319545, 0.38319545, 0.40001382,\n",
       "       0.39801081, 0.41299879, 0.41583065, 0.41698753, 0.41393124,\n",
       "       0.42484417, 0.42945451, 0.42114895, 0.4198021 , 0.43382313,\n",
       "       0.42444701, 0.42632913, 0.3957488 , 0.39416018, 0.40932085,\n",
       "       0.39856337, 0.41090947, 0.41885243, 0.48840503, 0.50689827,\n",
       "       0.51192305, 0.51466855, 0.54119106, 0.52192082, 0.53307547,\n",
       "       0.50992004, 0.53502668, 0.54884051, 0.54813254, 0.54606045,\n",
       "       0.55265656, 0.55365804, 0.57139157, 0.61348921, 0.62376321,\n",
       "       0.61663181, 0.62835631, 0.61790963, 0.61651098, 0.64574442,\n",
       "       0.68124595, 0.66204474, 0.58938405, 0.58993661, 0.53371435,\n",
       "       0.56479546, 0.53834197, 0.52805069, 0.55125792, 0.55250116,\n",
       "       0.52894857, 0.51658519, 0.492411  , 0.51478943, 0.52673836,\n",
       "       0.49434498, 0.50194257, 0.52998462, 0.54849514, 0.54248611,\n",
       "       0.55436601, 0.5611348 , 0.53509572, 0.55913179, 0.53606273,\n",
       "       0.54932399, 0.54856423, 0.56237805, 0.61369641, 0.59090358,\n",
       "       0.59152523, 0.58820989, 0.57653719, 0.55554022, 0.56610779,\n",
       "       0.56168737, 0.55395161, 0.54904771, 0.54911679, 0.55982247,\n",
       "       0.52252514, 0.55098163, 0.50636299, 0.50574134, 0.51727592,\n",
       "       0.54842606, 0.57660627, 0.57425795, 0.55788855, 0.55547114,\n",
       "       0.57978344, 0.57784952, 0.57819488, 0.58537808, 0.57909276,\n",
       "       0.56969936, 0.57391258, 0.56493357, 0.54082846, 0.54994559,\n",
       "       0.55588554, 0.55975339, 0.57674444, 0.60209279, 0.60457929,\n",
       "       0.60361232, 0.59884654, 0.6092069 , 0.61355824, 0.59560028,\n",
       "       0.60568436, 0.59995167, 0.59560028, 0.63773243, 0.63724895,\n",
       "       0.6433961 , 0.62930604, 0.64014984, 0.66536013, 0.65900579,\n",
       "       0.66598173, 0.69858236, 0.68601173, 0.67806883, 0.67095471,\n",
       "       0.64830005, 0.65935105, 0.62889159, 0.65872945, 0.6665343 ,\n",
       "       0.64533002, 0.64408683, 0.65852225, 0.6448466 , 0.63262133,\n",
       "       0.63738712, 0.66639613, 0.69982556, 0.71502085, 0.7416124 ,\n",
       "       0.74327009, 0.73567245, 0.70134509, 0.6659127 , 0.68096972,\n",
       "       0.68684063, 0.67958835, 0.70341718, 0.69906579, 0.70010189,\n",
       "       0.69388561, 0.68960336, 0.6878076 , 0.68946519, 0.67440817,\n",
       "       0.65817689, 0.65037215, 0.65147717, 0.62474746, 0.62378049,\n",
       "       0.62025795, 0.59014381, 0.59200871, 0.63711084, 0.61866939,\n",
       "       0.59753421, 0.58420386, 0.59311379, 0.55816483, 0.59083449,\n",
       "       0.58316787, 0.59684353, 0.5904201 , 0.61086455, 0.62177748,\n",
       "       0.6161829 , 0.58696664, 0.5832369 , 0.60672041, 0.60084955,\n",
       "       0.58392758, 0.58738104, 0.59166334, 0.59290659, 0.5826153 ,\n",
       "       0.59815586, 0.60402672, 0.62405678, 0.6261979 , 0.6378706 ,\n",
       "       0.6548616 , 0.67309584, 0.66093971, 0.68297267, 0.66639613,\n",
       "       0.68345621, 0.68110788, 0.68580453, 0.67385561, 0.6765493 ,\n",
       "       0.66577453, 0.68221302, 0.68497574, 0.68269644, 0.67710186,\n",
       "       0.67641113, 0.66245924, 0.66991861, 0.63752523, 0.63925201,\n",
       "       0.65057935, 0.6538256 , 0.63061832, 0.62412586, 0.60243811,\n",
       "       0.61763335, 0.63476246, 0.6266123 , 0.6168045 , 0.61569942,\n",
       "       0.63379549, 0.62081052, 0.63234505, 0.63096369, 0.63061832,\n",
       "       0.61977447, 0.61514685, 0.61286756, 0.61825494, 0.60775646,\n",
       "       0.62398769, 0.62405678, 0.62985856, 0.63255225, 0.62550722,\n",
       "       0.63407178, 0.65569039, 0.64988861, 0.6534111 , 0.66473843,\n",
       "       0.65555233, 0.66826102, 0.67986459, 0.67793066, 0.6759277 ,\n",
       "       0.67385561, 0.68539014, 0.69609587, 0.70044726, 0.70258838,\n",
       "       0.72116799, 0.73539622, 0.75300886, 0.74382266, 0.75673855,\n",
       "       0.75252533, 0.7603992 , 0.78464243, 0.78001481, 0.76557939,\n",
       "       0.73836614, 0.76392169, 0.75874151, 0.76841125, 0.78056738,\n",
       "       0.7835374 , 0.76820405, 0.75584062, 0.7603992 , 0.76191873,\n",
       "       0.75957041, 0.7722791 , 0.76944724, 0.77020701, 0.76385266,\n",
       "       0.76350729, 0.76012297, 0.76191873, 0.78284667, 0.78429717,\n",
       "       0.79824905, 0.79182568, 0.76537219, 0.76772051, 0.77801185,\n",
       "       0.78851039, 0.78788869, 0.77918601, 0.7735223 , 0.78084371,\n",
       "       0.81206288, 0.80315301, 0.80784966, 0.81572353, 0.82021309,\n",
       "       0.8367206 , 0.82580767, 0.81862453, 0.78339923, 0.78740526,\n",
       "       0.77752832, 0.78381363, 0.78215594, 0.7633001 , 0.74175056,\n",
       "       0.74513488, 0.7618497 , 0.76861845, 0.76924004, 0.75853431,\n",
       "       0.73463645, 0.7409908 , 0.73180459, 0.7397475 , 0.71550428,\n",
       "       0.7291109 , 0.73525805, 0.74416792, 0.74147423, 0.74085263,\n",
       "       0.73187362, 0.72772954, 0.74741418, 0.75487365, 0.76668452,\n",
       "       0.78194874, 0.78540219, 0.78692172, 0.78146531, 0.78111994,\n",
       "       0.7858167 , 0.78257044, 0.80826416, 0.78913198, 0.7833302 ,\n",
       "       0.79065151, 0.80080468, 0.79714403, 0.79935418, 0.7935524 ,\n",
       "       0.79610793, 0.77614696, 0.77580159, 0.79044431, 0.79051335,\n",
       "       0.79742026, 0.81461851, 0.84487071, 0.86338129, 0.86662755,\n",
       "       0.86932124, 0.87298189, 0.8375494 , 0.86124016, 0.89618912,\n",
       "       0.89252847, 0.88555242, 0.87229116, 0.89632729, 0.93680169,\n",
       "       0.96373871, 0.96014709, 0.99392188, 0.9682973 , 0.95855853,\n",
       "       0.99288589, 0.94426117, 0.93652546, 0.92692486, 0.94930329,\n",
       "       0.96760657, 0.97202699, 1.        , 0.99281675, 0.99343845,\n",
       "       0.98528824, 0.98093696])"
      ]
     },
     "execution_count": 47,
     "metadata": {},
     "output_type": "execute_result"
    }
   ],
   "source": [
    "y_test"
   ]
  },
  {
   "cell_type": "code",
   "execution_count": 48,
   "id": "db7e1845",
   "metadata": {},
   "outputs": [
    {
     "data": {
      "text/plain": [
       "array([0.00690691])"
      ]
     },
     "execution_count": 48,
     "metadata": {},
     "output_type": "execute_result"
    }
   ],
   "source": [
    "##scaling factor \n",
    "sc.scale_"
   ]
  },
  {
   "cell_type": "code",
   "execution_count": 49,
   "id": "876cffff",
   "metadata": {},
   "outputs": [],
   "source": [
    "scale_factor = 1/0.00690691\n",
    "y_pred = y_pred * scale_factor\n",
    "y_test = y_test * scale_factor"
   ]
  },
  {
   "cell_type": "code",
   "execution_count": 50,
   "id": "583d4580",
   "metadata": {},
   "outputs": [
    {
     "data": {
      "text/plain": [
       "<matplotlib.legend.Legend at 0x280abdda3d0>"
      ]
     },
     "execution_count": 50,
     "metadata": {},
     "output_type": "execute_result"
    },
    {
     "data": {
      "image/png": "[encoded data removed]",
      "text/plain": [
       "<Figure size 864x432 with 1 Axes>"
      ]
     },
     "metadata": {
      "needs_background": "light"
     },
     "output_type": "display_data"
    }
   ],
   "source": [
    "plt.figure(figsize=(12,6))\n",
    "plt.plot(y_test, 'b', label='Actual Price')\n",
    "plt.plot(y_pred, 'r', label='Predicted Price')\n",
    "plt.xlabel('Time')\n",
    "plt.ylabel('Price')\n",
    "plt.legend()"
   ]
  },
  {
   "cell_type": "code",
   "execution_count": null,
   "id": "bcfcf52e",
   "metadata": {},
   "outputs": [],
   "source": []
  }
 ],
 "metadata": {
  "kernelspec": {
   "display_name": "Python 3",
   "language": "python",
   "name": "python3"
  },
  "language_info": {
   "codemirror_mode": {
    "name": "ipython",
    "version": 3
   },
   "file_extension": ".py",
   "mimetype": "text/x-python",
   "name": "python",
   "nbconvert_exporter": "python",
   "pygments_lexer": "ipython3",
   "version": "3.8.8"
  }
 },
 "nbformat": 4,
 "nbformat_minor": 5
}
